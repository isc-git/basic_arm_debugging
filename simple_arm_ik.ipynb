{
 "cells": [
  {
   "cell_type": "code",
   "execution_count": null,
   "metadata": {},
   "outputs": [],
   "source": [
    "import matplotlib.pyplot as plt\n",
    "import matplotlib.widgets as wig\n",
    "import numpy as np\n",
    "\n",
    "from typing import List, Type\n",
    "\n",
    "%matplotlib widget\n",
    "import arm_lib"
   ]
  },
  {
   "cell_type": "code",
   "execution_count": null,
   "metadata": {},
   "outputs": [],
   "source": [
    "# close all previouse figure windows\n",
    "plt.close(\"all\")"
   ]
  },
  {
   "attachments": {},
   "cell_type": "markdown",
   "metadata": {},
   "source": [
    "Configuring our arm"
   ]
  },
  {
   "cell_type": "code",
   "execution_count": null,
   "metadata": {},
   "outputs": [],
   "source": [
    "ELEMENT_0_LENGTH: float = 1.0\n",
    "ELEMENT_1_LENGTH: float = 1.0\n",
    "\n",
    "# Configure arm\n",
    "state = arm_lib.ArmState.OK\n",
    "base = arm_lib.RevoluteJoint(90.0, [0])\n",
    "first = arm_lib.LinearElement(ELEMENT_0_LENGTH, 0.0, 0)\n",
    "second = arm_lib.RevoluteJoint(0.0, [0, 1])\n",
    "third = arm_lib.LinearElement(ELEMENT_1_LENGTH, 0.0, 1)\n",
    "\n",
    "joint_vector: List[Type[arm_lib.Joint]] = [\n",
    "    base,\n",
    "    first,\n",
    "    second,\n",
    "    third\n",
    "]\n",
    "\n",
    "global_origin = (0.0, 0.0)\n",
    "global_orientation = 0.0\n",
    "global_frame = arm_lib.Frame2D(\n",
    "    global_origin,\n",
    "    global_orientation\n",
    ")\n",
    "\n",
    "arm = arm_lib.Arm(joint_vector, global_frame)"
   ]
  },
  {
   "cell_type": "code",
   "execution_count": null,
   "metadata": {},
   "outputs": [],
   "source": [
    "# setting up the plot\n",
    "fig, ax = plt.subplots()\n",
    "ax.set_xlabel(\"x\")\n",
    "ax.set_ylabel(\"y\")\n",
    "ax.set_xlim([-2, 2])\n",
    "ax.set_ylim([0,2])\n",
    "ax.set_aspect(\"equal\")\n",
    "fig.subplots_adjust(bottom=0.25)\n",
    "\n",
    "arm.initialize_plotters(ax)\n",
    "\n",
    "# Reset button.\n",
    "resetax = fig.add_axes([0.8, 0.025, 0.1, 0.04])\n",
    "button = wig.Button(resetax, 'Reset', hovercolor='0.975')\n",
    "\n",
    "def reset(event):\n",
    "    print(\"reset\")\n",
    "\n",
    "\n",
    "button.on_clicked(reset)\n",
    "\n",
    "frame_show = arm_lib.Frame2DPlotter(ax, frame=arm_lib.Frame2D((0.25, 0.5), 0))\n",
    "\n",
    "plt.show()"
   ]
  },
  {
   "cell_type": "code",
   "execution_count": null,
   "metadata": {},
   "outputs": [],
   "source": [
    "title_buffer = \"-\"*5\n",
    "print(title_buffer + \" BASE \" + title_buffer)\n",
    "print(base.print_transform())\n",
    "print(title_buffer + \" SECOND \" + title_buffer)\n",
    "print(first.print_transform())\n",
    "print(title_buffer + \" THIRD \" + title_buffer)\n",
    "print(second.print_transform())\n",
    "print(title_buffer + \" FOURTH \" + title_buffer)\n",
    "print(third.print_transform())"
   ]
  }
 ],
 "metadata": {
  "kernelspec": {
   "display_name": "venv",
   "language": "python",
   "name": "python3"
  },
  "language_info": {
   "codemirror_mode": {
    "name": "ipython",
    "version": 3
   },
   "file_extension": ".py",
   "mimetype": "text/x-python",
   "name": "python",
   "nbconvert_exporter": "python",
   "pygments_lexer": "ipython3",
   "version": "3.10.6"
  },
  "orig_nbformat": 4
 },
 "nbformat": 4,
 "nbformat_minor": 2
}
